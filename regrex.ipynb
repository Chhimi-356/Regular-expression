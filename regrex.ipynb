{
 "cells": [
  {
   "cell_type": "markdown",
   "metadata": {},
   "source": [
    "#### search pattern brand and company if found print found else print not found"
   ]
  },
  {
   "cell_type": "code",
   "execution_count": 1,
   "metadata": {
    "ExecuteTime": {
     "end_time": "2020-11-09T07:44:21.744002Z",
     "start_time": "2020-11-09T07:44:21.685057Z"
    }
   },
   "outputs": [
    {
     "name": "stdout",
     "output_type": "stream",
     "text": [
      "found\n"
     ]
    }
   ],
   "source": [
    "import re\n",
    "\n",
    "text = 'Apple is a tech brand, not a fruit'\n",
    "compnay= 'Apple'\n",
    "brand = 'tech'\n",
    "result= re.search(r'[company,brand]', text)\n",
    "if result:\n",
    "    print('found')\n",
    "else: \n",
    "    print('Notfound')\n",
    "#print(re.findall(r\"[a-zA-z0-9]{5,10}.\",str1))\n",
    "\n",
    "\n"
   ]
  },
  {
   "cell_type": "markdown",
   "metadata": {},
   "source": [
    "#### split the given text at @"
   ]
  },
  {
   "cell_type": "code",
   "execution_count": 3,
   "metadata": {
    "ExecuteTime": {
     "end_time": "2020-11-09T07:46:38.339136Z",
     "start_time": "2020-11-09T07:46:38.324154Z"
    }
   },
   "outputs": [
    {
     "name": "stdout",
     "output_type": "stream",
     "text": [
      "['the list of given email are harry', 'gmail.com , ron', 'hotmail.com']\n"
     ]
    }
   ],
   "source": [
    "import re\n",
    "\n",
    "phrase = 'the list of given email are harry@gmail.com , ron@hotmail.com'\n",
    "result = re.split(r'[@]', phrase)\n",
    "print(result)\n",
    "                \n",
    "    \n",
    "\n",
    "\n"
   ]
  },
  {
   "cell_type": "markdown",
   "metadata": {},
   "source": [
    "#### Remove the punctation from the given sentence"
   ]
  },
  {
   "cell_type": "code",
   "execution_count": 4,
   "metadata": {
    "ExecuteTime": {
     "end_time": "2020-11-09T07:54:34.695655Z",
     "start_time": "2020-11-09T07:54:34.672156Z"
    }
   },
   "outputs": [
    {
     "name": "stdout",
     "output_type": "stream",
     "text": [
      "hi  are you doing good \n"
     ]
    }
   ],
   "source": [
    "test_phrase = 'hi! are you doing good?'\n",
    "result = re.sub(r'[^\\w]',' ', test_phrase)\n",
    "print(result)"
   ]
  },
  {
   "cell_type": "code",
   "execution_count": null,
   "metadata": {},
   "outputs": [],
   "source": []
  },
  {
   "cell_type": "markdown",
   "metadata": {
    "ExecuteTime": {
     "end_time": "2020-11-08T10:28:03.295995Z",
     "start_time": "2020-11-08T10:28:03.276013Z"
    }
   },
   "source": [
    "#### write a list of test pattern having a sequence of\n",
    "- lower case letter,\n",
    "- uppercase letter,\n",
    "- lower or upper\n",
    "- and one upper case followed by lower case"
   ]
  },
  {
   "cell_type": "code",
   "execution_count": 29,
   "metadata": {
    "ExecuteTime": {
     "end_time": "2020-11-09T09:06:40.300921Z",
     "start_time": "2020-11-09T09:06:40.264955Z"
    }
   },
   "outputs": [
    {
     "name": "stdout",
     "output_type": "stream",
     "text": [
      "['egex', 'difficult', 'to', 'grasp', 'in', 'short', 'period', 'of', 'time']\n",
      "['R', 'I']\n",
      "['Regex', 'Is', 'difficult', 'to', 'grasp', 'in', 'short', 'period', 'of', 'time']\n",
      "['Re', 'Is']\n"
     ]
    },
    {
     "data": {
      "text/plain": [
       "\"\\n['egex', 's', 'difficult', 'to', 'grasp', 'in', 'short', 'period', 'of', 'time']\\n\\n['R', 'I']\\n\\n['Regex', 'Is', 'difficult', 'to', 'grasp', 'in', 'short', 'period', 'of', 'time']\\n\\n['Regex', 'Is']\\n\\n\""
      ]
     },
     "execution_count": 29,
     "metadata": {},
     "output_type": "execute_result"
    }
   ],
   "source": [
    "import re \n",
    "test_phrase = 'Regex Is difficult to grasp in short period of time'\n",
    "print(re.findall(r'[a-z]\\w+', test_phrase))\n",
    "print(re.findall(r'[A-Z]+', test_phrase))\n",
    "print(re.findall(r'[a-zA-Z]+', test_phrase))\n",
    "print(re.findall(r'[A-Z][a-z]', test_phrase))\n",
    "\n",
    "\n",
    "\n",
    "'''\n",
    "['egex', 's', 'difficult', 'to', 'grasp', 'in', 'short', 'period', 'of', 'time']\n",
    "\n",
    "['R', 'I']\n",
    "\n",
    "['Regex', 'Is', 'difficult', 'to', 'grasp', 'in', 'short', 'period', 'of', 'time']\n",
    "\n",
    "['Regex', 'Is']\n",
    "\n",
    "'''\n"
   ]
  },
  {
   "cell_type": "markdown",
   "metadata": {
    "ExecuteTime": {
     "end_time": "2020-11-09T09:07:32.959455Z",
     "start_time": "2020-11-09T09:07:32.945471Z"
    }
   },
   "source": [
    "#### write a list of test pattern having a sequence\n",
    "- sequence of non-digits\n",
    "- sequence of whitespace\n",
    "- sequence of non-whitespace\n",
    "- alphanumeric characters\n",
    "- non-alphanumeric"
   ]
  },
  {
   "cell_type": "code",
   "execution_count": 33,
   "metadata": {
    "ExecuteTime": {
     "end_time": "2020-11-09T09:12:14.786470Z",
     "start_time": "2020-11-09T09:12:14.764490Z"
    }
   },
   "outputs": [
    {
     "name": "stdout",
     "output_type": "stream",
     "text": [
      "['This is a string with some numbers ', ' and a symbol #hashtag']\n",
      "[' ', ' ', ' ', ' ', ' ', ' ', ' ', ' ', ' ', ' ', ' ']\n",
      "['This', 'is', 'a', 'string', 'with', 'some', 'numbers', '1233', 'and', 'a', 'symbol', '#hashtag']\n",
      "['This', 'is', 'a', 'string', 'with', 'some', 'numbers', '1233', 'and', 'a', 'symbol', 'hashtag']\n",
      "[' ', ' ', ' ', ' ', ' ', ' ', ' ', ' ', ' ', ' ', ' #']\n"
     ]
    }
   ],
   "source": [
    "test_phrase = 'This is a string with some numbers 1233 and a symbol #hashtag'\n",
    "print(re.findall(r'\\D+', test_phrase))\n",
    "print(re.findall(r'\\s+', test_phrase))\n",
    "print(re.findall(r'\\S+', test_phrase))\n",
    "print(re.findall(r'\\w+', test_phrase))\n",
    "print(re.findall(r'\\W+', test_phrase))\n"
   ]
  },
  {
   "cell_type": "markdown",
   "metadata": {},
   "source": [
    "#### find the date from the given text"
   ]
  },
  {
   "cell_type": "code",
   "execution_count": 35,
   "metadata": {
    "ExecuteTime": {
     "end_time": "2020-11-09T09:15:08.078716Z",
     "start_time": "2020-11-09T09:15:08.053743Z"
    }
   },
   "outputs": [
    {
     "name": "stdout",
     "output_type": "stream",
     "text": [
      "['12-12-1992']\n"
     ]
    }
   ],
   "source": [
    "text=\"is your birthday in 12-12-1992\"\n",
    "\n",
    "print(re.findall(r'[^ a-z]+', text))\n"
   ]
  },
  {
   "cell_type": "markdown",
   "metadata": {},
   "source": [
    "#### write a regrex that find anything that start with bat"
   ]
  },
  {
   "cell_type": "code",
   "execution_count": 40,
   "metadata": {
    "ExecuteTime": {
     "end_time": "2020-11-09T09:25:21.701367Z",
     "start_time": "2020-11-09T09:25:21.676393Z"
    }
   },
   "outputs": [
    {
     "name": "stdout",
     "output_type": "stream",
     "text": [
      "['batman', 'batmobile']\n"
     ]
    }
   ],
   "source": [
    "text=\"Here comes the batman in batmobile\"\n",
    "\n",
    "print(re.findall(r'(?:bat)\\w+', text))\n",
    "#print(re.findall(r''))"
   ]
  },
  {
   "cell_type": "markdown",
   "metadata": {},
   "source": [
    "#### write a regrex that find all the word that end with 'at'"
   ]
  },
  {
   "cell_type": "code",
   "execution_count": 42,
   "metadata": {
    "ExecuteTime": {
     "end_time": "2020-11-09T09:38:59.193970Z",
     "start_time": "2020-11-09T09:38:59.167998Z"
    }
   },
   "outputs": [
    {
     "name": "stdout",
     "output_type": "stream",
     "text": [
      "['cat', 'hat', 'sat', 'flat', 'mat']\n"
     ]
    }
   ],
   "source": [
    "text=\"The cat in the hat sat flat on the mat.\"\n",
    "\n",
    "print(re.findall(r'[a-z]+at\\b', text))\n"
   ]
  },
  {
   "cell_type": "markdown",
   "metadata": {},
   "source": [
    "#### find the fistname and the last name of the person"
   ]
  },
  {
   "cell_type": "code",
   "execution_count": 59,
   "metadata": {
    "ExecuteTime": {
     "end_time": "2020-11-09T09:45:27.757624Z",
     "start_time": "2020-11-09T09:45:27.742640Z"
    }
   },
   "outputs": [
    {
     "name": "stdout",
     "output_type": "stream",
     "text": [
      "['Travis']\n",
      "['Baker']\n"
     ]
    }
   ],
   "source": [
    "text=\"First Name: Travis Last Name: Baker\"\n",
    "\n",
    "print(re.findall(r'(?:T)\\w+', text))\n",
    "print(re.findall(r'(\\w+$)', text))\n",
    "\n"
   ]
  },
  {
   "cell_type": "markdown",
   "metadata": {},
   "source": [
    "#### find all the words with an internal o."
   ]
  },
  {
   "cell_type": "code",
   "execution_count": 62,
   "metadata": {
    "ExecuteTime": {
     "end_time": "2020-11-09T09:48:09.530742Z",
     "start_time": "2020-11-09T09:48:09.507764Z"
    }
   },
   "outputs": [
    {
     "name": "stdout",
     "output_type": "stream",
     "text": [
      "['brown', 'fox']\n"
     ]
    }
   ],
   "source": [
    "text=\"the quick brown fox over \"\n",
    "print(re.findall( r'\\w+[o]\\w+', text))"
   ]
  },
  {
   "cell_type": "markdown",
   "metadata": {},
   "source": [
    "#### find that begin or end with o"
   ]
  },
  {
   "cell_type": "code",
   "execution_count": 75,
   "metadata": {
    "ExecuteTime": {
     "end_time": "2020-11-09T09:56:43.013497Z",
     "start_time": "2020-11-09T09:56:42.998510Z"
    }
   },
   "outputs": [
    {
     "name": "stdout",
     "output_type": "stream",
     "text": [
      "['over']\n"
     ]
    }
   ],
   "source": [
    "text= \"quick brown fox jumps over a lazy dog\"\n",
    "\n",
    "print(re.findall(r'\\b[o]\\w+| w+[o]\\b', text))\n"
   ]
  },
  {
   "cell_type": "markdown",
   "metadata": {},
   "source": [
    "#### print the answer in the given format . hint use re.sub 'The quick =brown= =fox= jumped =over= the lazy =dog= '"
   ]
  },
  {
   "cell_type": "code",
   "execution_count": 78,
   "metadata": {
    "ExecuteTime": {
     "end_time": "2020-11-09T10:01:00.772513Z",
     "start_time": "2020-11-09T10:01:00.757529Z"
    }
   },
   "outputs": [
    {
     "name": "stdout",
     "output_type": "stream",
     "text": [
      "the=quick=brown=fox=jumped=over=the=lazy=dog\n"
     ]
    }
   ],
   "source": [
    "\n",
    "\n",
    "text=\"the quick brown fox jumped over the lazy dog\"\n",
    "\n",
    "print(re.sub(r'[\\s]', '=', text))"
   ]
  },
  {
   "cell_type": "markdown",
   "metadata": {},
   "source": [
    "#### get the month from the given text"
   ]
  },
  {
   "cell_type": "code",
   "execution_count": 15,
   "metadata": {
    "ExecuteTime": {
     "end_time": "2020-11-09T14:37:25.388771Z",
     "start_time": "2020-11-09T14:37:25.367784Z"
    }
   },
   "outputs": [
    {
     "name": "stdout",
     "output_type": "stream",
     "text": [
      "['10', '02']\n"
     ]
    }
   ],
   "source": [
    "import re\n",
    "text=\"bill gate was born in 28-10-1955 and will was born in 1-02-2000\"\n",
    "\n",
    "print(re.findall(r'\\-(\\d+)\\W+', text))\n",
    "\n",
    "# \\d{2}"
   ]
  },
  {
   "cell_type": "markdown",
   "metadata": {},
   "source": [
    "#### splits before every o"
   ]
  },
  {
   "cell_type": "code",
   "execution_count": 12,
   "metadata": {
    "ExecuteTime": {
     "end_time": "2020-11-09T10:19:59.377742Z",
     "start_time": "2020-11-09T10:19:59.361761Z"
    }
   },
   "outputs": [
    {
     "name": "stdout",
     "output_type": "stream",
     "text": [
      "['pyth', 'n is an ', 'bject ', 'riented langugae']\n"
     ]
    }
   ],
   "source": [
    "text=\"python is an object oriented langugae\"\n",
    "\n",
    "print(re.split(r'[o]', text))"
   ]
  },
  {
   "cell_type": "markdown",
   "metadata": {},
   "source": [
    "#### write a pattern that find dogs and dog"
   ]
  },
  {
   "cell_type": "code",
   "execution_count": 9,
   "metadata": {
    "ExecuteTime": {
     "end_time": "2020-11-09T14:15:13.679393Z",
     "start_time": "2020-11-09T14:15:13.655416Z"
    }
   },
   "outputs": [
    {
     "name": "stdout",
     "output_type": "stream",
     "text": [
      "['dogs', 'dog']\n",
      "['I l', 'ike', ' do', 'gs ', 'but', ' my', ' do', 'g d', 'oes', \"n't\", ' li', 'ke ', 'me.']\n"
     ]
    }
   ],
   "source": [
    "test_string = \"I like dogs but my dog doesn't like me.\"\n",
    "\n",
    "print(re.findall(r'(dogs|dog)',test_string))\n",
    "# print(re.findall(r'\\D{3}', test_string))"
   ]
  },
  {
   "cell_type": "markdown",
   "metadata": {},
   "source": [
    "#### Find all the p's and q's in the test string below."
   ]
  },
  {
   "cell_type": "code",
   "execution_count": 19,
   "metadata": {
    "ExecuteTime": {
     "end_time": "2020-11-09T10:27:39.441873Z",
     "start_time": "2020-11-09T10:27:39.423896Z"
    }
   },
   "outputs": [
    {
     "name": "stdout",
     "output_type": "stream",
     "text": [
      "['Q', 'p', 'p', 'p', 'q']\n"
     ]
    }
   ],
   "source": [
    "test_string = \"Quick, pizzaz shop is closing. Is this a path to queensland?\"\n",
    "\n",
    "print(re.findall(r'[P|p|Q|q]', test_string))"
   ]
  },
  {
   "cell_type": "markdown",
   "metadata": {},
   "source": [
    "#### find everything except t in word"
   ]
  },
  {
   "cell_type": "code",
   "execution_count": 21,
   "metadata": {
    "ExecuteTime": {
     "end_time": "2020-11-09T10:28:51.917364Z",
     "start_time": "2020-11-09T10:28:51.900373Z"
    }
   },
   "outputs": [
    {
     "name": "stdout",
     "output_type": "stream",
     "text": [
      "['he', ' quick', ' brown', ' fox', ' jumped', ' over', ' the', ' lazy', ' dog']\n"
     ]
    }
   ],
   "source": [
    "test_string = 'the quick brown fox jumped over the lazy dog'\n",
    "print(re.findall(r'[^t]\\w+', test_string))"
   ]
  },
  {
   "cell_type": "markdown",
   "metadata": {},
   "source": [
    "#### Find all the ^ characters in the following test sentence."
   ]
  },
  {
   "cell_type": "code",
   "execution_count": 30,
   "metadata": {
    "ExecuteTime": {
     "end_time": "2020-11-09T11:24:47.674582Z",
     "start_time": "2020-11-09T11:24:47.652603Z"
    }
   },
   "outputs": [
    {
     "name": "stdout",
     "output_type": "stream",
     "text": [
      "['^', '^', '^', '^']\n"
     ]
    }
   ],
   "source": [
    "test_string = \"\"\"You can match the characters not listed within the class by complementing the set. \n",
    "\n",
    "This is indicated by including a ^ as the first character of the class; \n",
    "\n",
    "^ outside a character class will simply match the ^ character. \n",
    "\n",
    "For example, [^5] will match any character except 5.\"\"\"\n",
    "\n",
    "print(re.findall(r'[\\^]', test_string))"
   ]
  },
  {
   "cell_type": "markdown",
   "metadata": {},
   "source": [
    "#### Find all three digit prices in the following test sentence."
   ]
  },
  {
   "cell_type": "code",
   "execution_count": 47,
   "metadata": {
    "ExecuteTime": {
     "end_time": "2020-11-09T11:34:20.829699Z",
     "start_time": "2020-11-09T11:34:20.814714Z"
    }
   },
   "outputs": [
    {
     "name": "stdout",
     "output_type": "stream",
     "text": [
      "['$999', '$550']\n"
     ]
    }
   ],
   "source": [
    "test_string = 'The Mac book cost over $999, while the windows system can be bought for less than $550.'\n",
    "\n",
    "print(re.findall(r'([$]\\d{3})', test_string))"
   ]
  },
  {
   "cell_type": "markdown",
   "metadata": {},
   "source": [
    "#### Find all prices in the following test sentence."
   ]
  },
  {
   "cell_type": "code",
   "execution_count": 11,
   "metadata": {
    "ExecuteTime": {
     "end_time": "2020-11-09T14:33:35.416966Z",
     "start_time": "2020-11-09T14:33:35.395989Z"
    }
   },
   "outputs": [
    {
     "name": "stdout",
     "output_type": "stream",
     "text": [
      "['$999', '$550', '$1200', '$2500', '$30', '$390']\n",
      "['$999', '$550', '$1200', '$2500', '$30', '$390']\n"
     ]
    }
   ],
   "source": [
    "test_string = \"\"\"The iPhone X costs over $999, while the Android cost around $550.\n",
    "\n",
    "Apple's MacBook Pro costs $1200, while razer blade cost $2500.\n",
    "\n",
    "A new charger for iphone cost over $30.\n",
    "\n",
    "Bose headphone cost around $390\n",
    "\n",
    "\"\"\"\n",
    "print(re.findall(r'\\$\\d{2,4}', test_string))\n",
    "print(re.findall(r'\\$\\d+', test_string))"
   ]
  },
  {
   "cell_type": "markdown",
   "metadata": {},
   "source": [
    "#### find all the better in the given text"
   ]
  },
  {
   "cell_type": "code",
   "execution_count": 61,
   "metadata": {
    "ExecuteTime": {
     "end_time": "2020-11-09T12:04:27.844982Z",
     "start_time": "2020-11-09T12:04:27.824995Z"
    }
   },
   "outputs": [
    {
     "name": "stdout",
     "output_type": "stream",
     "text": [
      "['better', 'better', 'better', 'better', 'better', 'better', 'better', 'better']\n"
     ]
    }
   ],
   "source": [
    "robot_string = '''The Zen of Python, by Tim Peters\n",
    "\n",
    "Beautiful is better than ugly.\n",
    "Explicit is better than implicit.\n",
    "Simple is better than complex.\n",
    "Complex is better than complicated.\n",
    "Flat is better than nested.\n",
    "Sparse is better than dense.\n",
    "Readability counts.\n",
    "Special cases aren't special enough to break the rules.\n",
    "Although practicality beats purity.\n",
    "Errors should never pass silently.\n",
    "Unless explicitly silenced.\n",
    "In the face of ambiguity, refuse the temptation to guess.\n",
    "There should be one-- and preferably only one --obvious way to do it.\n",
    "Although that way may not be obvious at first unless you're Dutch.\n",
    "Now is better than never.\n",
    "Although never is often better than *right* now.\n",
    "If the implementation is hard to explain, it's a bad idea.\n",
    "If the implementation is easy to explain, it may be a good idea.\n",
    "Namespaces are one honking great idea -- let's do more of those!\n",
    "'''\n",
    "\n",
    "print(re.findall(r'better', robot_string))"
   ]
  },
  {
   "cell_type": "markdown",
   "metadata": {},
   "source": [
    "#### find the word that start with bat and end with man"
   ]
  },
  {
   "cell_type": "code",
   "execution_count": 3,
   "metadata": {
    "ExecuteTime": {
     "end_time": "2020-11-09T14:01:49.437259Z",
     "start_time": "2020-11-09T14:01:49.413284Z"
    }
   },
   "outputs": [
    {
     "name": "stdout",
     "output_type": "stream",
     "text": [
      "['Batman', 'batwoman']\n"
     ]
    }
   ],
   "source": [
    "import re \n",
    "\n",
    "test_string = 'Batman is the best movies, batwoman never herad about it.'\n",
    "\n",
    "print(re.findall(r'\\b[Bb]at\\w+[man]\\b', test_string))"
   ]
  },
  {
   "cell_type": "markdown",
   "metadata": {},
   "source": [
    "#### remove the year form the given list\n"
   ]
  },
  {
   "cell_type": "code",
   "execution_count": 102,
   "metadata": {
    "ExecuteTime": {
     "end_time": "2020-11-09T12:26:50.703863Z",
     "start_time": "2020-11-09T12:26:50.689878Z"
    }
   },
   "outputs": [
    {
     "name": "stdout",
     "output_type": "stream",
     "text": [
      "Another You            \n",
      "Another You            \n"
     ]
    }
   ],
   "source": [
    "str_1=\"Another You (1991-2000)\" \n",
    "\n",
    "print(re.sub(r'[\\d+\\W+]', ' ', str_1))\n",
    "print(re.sub(r'[\\d+\\W+]', ' ', str_1))"
   ]
  },
  {
   "cell_type": "markdown",
   "metadata": {},
   "source": [
    "#### write a regex to find the url_name only"
   ]
  },
  {
   "cell_type": "code",
   "execution_count": 4,
   "metadata": {
    "ExecuteTime": {
     "end_time": "2020-11-09T14:06:20.415241Z",
     "start_time": "2020-11-09T14:06:20.397259Z"
    }
   },
   "outputs": [
    {
     "name": "stdout",
     "output_type": "stream",
     "text": [
      "['google-map']\n"
     ]
    }
   ],
   "source": [
    "import re\n",
    "name=\"http://www.google-map.com\" # >>>google-map output\n",
    "\n",
    "print(re.findall(r'(?:google)\\W+\\w+', name))\n",
    "#print(re.findall(r'()'))\n"
   ]
  },
  {
   "cell_type": "code",
   "execution_count": 11,
   "metadata": {
    "ExecuteTime": {
     "end_time": "2020-11-09T13:44:43.543930Z",
     "start_time": "2020-11-09T13:44:43.484991Z"
    }
   },
   "outputs": [
    {
     "ename": "TypeError",
     "evalue": "expected string or bytes-like object",
     "output_type": "error",
     "traceback": [
      "\u001b[1;31m---------------------------------------------------------------------------\u001b[0m",
      "\u001b[1;31mTypeError\u001b[0m                                 Traceback (most recent call last)",
      "\u001b[1;32m<ipython-input-11-5d7cdac7c838>\u001b[0m in \u001b[0;36m<module>\u001b[1;34m\u001b[0m\n\u001b[0;32m      5\u001b[0m ]\n\u001b[0;32m      6\u001b[0m \u001b[1;33m\u001b[0m\u001b[0m\n\u001b[1;32m----> 7\u001b[1;33m \u001b[0mprint\u001b[0m\u001b[1;33m(\u001b[0m\u001b[0mre\u001b[0m\u001b[1;33m.\u001b[0m\u001b[0mfindall\u001b[0m\u001b[1;33m(\u001b[0m\u001b[1;34mr'(size)'\u001b[0m\u001b[1;33m,\u001b[0m \u001b[0mdoc\u001b[0m\u001b[1;33m)\u001b[0m\u001b[1;33m)\u001b[0m\u001b[1;33m\u001b[0m\u001b[1;33m\u001b[0m\u001b[0m\n\u001b[0m",
      "\u001b[1;32m~\\anaconda3\\lib\\re.py\u001b[0m in \u001b[0;36mfindall\u001b[1;34m(pattern, string, flags)\u001b[0m\n\u001b[0;32m    239\u001b[0m \u001b[1;33m\u001b[0m\u001b[0m\n\u001b[0;32m    240\u001b[0m     Empty matches are included in the result.\"\"\"\n\u001b[1;32m--> 241\u001b[1;33m     \u001b[1;32mreturn\u001b[0m \u001b[0m_compile\u001b[0m\u001b[1;33m(\u001b[0m\u001b[0mpattern\u001b[0m\u001b[1;33m,\u001b[0m \u001b[0mflags\u001b[0m\u001b[1;33m)\u001b[0m\u001b[1;33m.\u001b[0m\u001b[0mfindall\u001b[0m\u001b[1;33m(\u001b[0m\u001b[0mstring\u001b[0m\u001b[1;33m)\u001b[0m\u001b[1;33m\u001b[0m\u001b[1;33m\u001b[0m\u001b[0m\n\u001b[0m\u001b[0;32m    242\u001b[0m \u001b[1;33m\u001b[0m\u001b[0m\n\u001b[0;32m    243\u001b[0m \u001b[1;32mdef\u001b[0m \u001b[0mfinditer\u001b[0m\u001b[1;33m(\u001b[0m\u001b[0mpattern\u001b[0m\u001b[1;33m,\u001b[0m \u001b[0mstring\u001b[0m\u001b[1;33m,\u001b[0m \u001b[0mflags\u001b[0m\u001b[1;33m=\u001b[0m\u001b[1;36m0\u001b[0m\u001b[1;33m)\u001b[0m\u001b[1;33m:\u001b[0m\u001b[1;33m\u001b[0m\u001b[1;33m\u001b[0m\u001b[0m\n",
      "\u001b[1;31mTypeError\u001b[0m: expected string or bytes-like object"
     ]
    }
   ],
   "source": [
    "doc=[\"Lenovo IdeaPad S145 Laptop 39,6 cm (15,6 Zoll, 1920x1080, FHD, matt) Slim Notebook (Intel Pentium N5000, 8 GB RAM, 512 GB SSD, Intel UHD-Grafik 605, Windows 10 Home) schwarz\",\n",
    "\"HP Notebook (15,6 Zoll), HD Display, AMD A4 2 x 2.50 GHz, 8 GB RAM, 256 GB SSD, HDMI, AMD R3 Grafik, Webcam, Windows 10 Pro\",\n",
    "'Neu Apple MacBook Air (13\", 1,1 GHz dual-core Intel Core i3 Prozessor der 10. Generation, 8 GB RAM, 256 GB) - Silber',\n",
    "'Lenovo (17,3 Zoll) Notebook (Intel Pentium 5405U 4-Thread CPU, 2.30 GHz, 8GB DDR4 RAM, 256GB SSD, 1000GB, DVD±RW, Intel HD, HDMI, Webcam, Bluetooth, USB3.0, WLAN, Win 10 Prof. 64, MS Office) #6477'\n",
    "]\n",
    "\n",
    "print(re.findall(r'(size)', doc))"
   ]
  },
  {
   "cell_type": "code",
   "execution_count": null,
   "metadata": {},
   "outputs": [],
   "source": [
    "# use regrex to find the size of the screen\n",
    "\n",
    "print(re.findall(r'\\()'))\n",
    "\n",
    "# use regrex to find the type of laptop eg: notebook\n",
    "\n",
    "# find the type of display\n",
    "\n",
    "# find the disk capacity size\n",
    "## LOOP"
   ]
  },
  {
   "cell_type": "code",
   "execution_count": null,
   "metadata": {},
   "outputs": [],
   "source": []
  }
 ],
 "metadata": {
  "kernelspec": {
   "display_name": "Python 3",
   "language": "python",
   "name": "python3"
  },
  "language_info": {
   "codemirror_mode": {
    "name": "ipython",
    "version": 3
   },
   "file_extension": ".py",
   "mimetype": "text/x-python",
   "name": "python",
   "nbconvert_exporter": "python",
   "pygments_lexer": "ipython3",
   "version": "3.8.3"
  },
  "toc": {
   "base_numbering": 1,
   "nav_menu": {},
   "number_sections": true,
   "sideBar": true,
   "skip_h1_title": false,
   "title_cell": "Table of Contents",
   "title_sidebar": "Contents",
   "toc_cell": false,
   "toc_position": {},
   "toc_section_display": true,
   "toc_window_display": false
  },
  "varInspector": {
   "cols": {
    "lenName": 16,
    "lenType": 16,
    "lenVar": 40
   },
   "kernels_config": {
    "python": {
     "delete_cmd_postfix": "",
     "delete_cmd_prefix": "del ",
     "library": "var_list.py",
     "varRefreshCmd": "print(var_dic_list())"
    },
    "r": {
     "delete_cmd_postfix": ") ",
     "delete_cmd_prefix": "rm(",
     "library": "var_list.r",
     "varRefreshCmd": "cat(var_dic_list()) "
    }
   },
   "types_to_exclude": [
    "module",
    "function",
    "builtin_function_or_method",
    "instance",
    "_Feature"
   ],
   "window_display": false
  }
 },
 "nbformat": 4,
 "nbformat_minor": 4
}
